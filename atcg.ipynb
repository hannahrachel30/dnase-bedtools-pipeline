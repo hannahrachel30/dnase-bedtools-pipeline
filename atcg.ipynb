{
 "cells": [
  {
   "cell_type": "code",
   "execution_count": 9,
   "metadata": {},
   "outputs": [
    {
     "data": {
      "text/plain": [
       "'/users/RONDI/project'"
      ]
     },
     "execution_count": 9,
     "metadata": {},
     "output_type": "execute_result"
    }
   ],
   "source": [
    "pwd"
   ]
  },
  {
   "cell_type": "code",
   "execution_count": 10,
   "metadata": {},
   "outputs": [
    {
     "name": "stdout",
     "output_type": "stream",
     "text": [
      "/users/RONDI/project\n"
     ]
    }
   ],
   "source": [
    "cd /users/RONDI/project"
   ]
  },
  {
   "cell_type": "code",
   "execution_count": 11,
   "metadata": {},
   "outputs": [
    {
     "data": {
      "text/plain": [
       "'/users/RONDI/project'"
      ]
     },
     "execution_count": 11,
     "metadata": {},
     "output_type": "execute_result"
    }
   ],
   "source": [
    "pwd"
   ]
  },
  {
   "cell_type": "code",
   "execution_count": 12,
   "metadata": {},
   "outputs": [],
   "source": [
    "# wget https://www.encodeproject.org/files/ENCFF168GAN/@@download/ENCFF168GAN.bed.gz\n",
    "# wget https://www.encodeproject.org/files/ENCFF027BPY/@@download/ENCFF027BPY.bed.gz\n",
    "# wget https://www.encodeproject.org/files/ENCFF886GET/@@download/ENCFF886GET.bed.gz\n",
    "# wget https://www.encodeproject.org/files/ENCFF931FYG/@@download/ENCFF931FYG.bed.gz\n",
    "# wget https://www.encodeproject.org/files/ENCFF448LQD/@@download/ENCFF448LQD.bed.gz\n",
    "# wget https://www.encodeproject.org/files/ENCFF027ZYL/@@download/ENCFF027ZYL.bed.gz\n",
    "# wget https://www.encodeproject.org/files/ENCFF016INZ/@@download/ENCFF016INZ.bed.gz\n",
    "# wget https://www.encodeproject.org/files/ENCFF660AEY/@@download/ENCFF660AEY.bed.gz\n",
    "# wget https://www.encodeproject.org/files/ENCFF478ZBE/@@download/ENCFF478ZBE.bed.gz\n",
    "# wget https://www.encodeproject.org/files/ENCFF257BSS/@@download/ENCFF257BSS.bed.gz\n",
    "\n",
    "# gunzip ENCFF016INZ.bed.gz  ENCFF027BPY.bed.gz  ENCFF027ZYL.bed.gz  ENCFF168GAN.bed.gz  ENCFF214BTG.bed.gz  ENCFF478ZBE.bed.gz  ENCFF660AEY.bed.gz  ENCFF824LVP.bed.gz  ENCFF841PMG.bed.gz  ENCFF931FYG.bed.gz\n",
    "\n",
    "# (base) RONDI@node0:/proj/SIUE-CS590-490/reference$ cp /proj/SIUE-CS590-490/reference/* ~/project\n",
    "\n",
    "# (base) RONDI@node0:~/project$ reference_genome=\"hg38.fa\"\n",
    "# output_file=\"atgc_combinedinput.txt\"\n",
    "# > \"$output_file\"\n",
    "# for bed_file in *.bed; do\n",
    "#     bedtools getfasta -fi \"$reference_genome\" -bed \"$bed_file\" >> \"$output_file\"\n",
    "# done\n",
    "# echo \"All sequences have been saved to $output_file.\"\n",
    "# All sequences have been saved to atgc_combinedinput.txt.\n",
    "\n",
    "# bedtools getfasta -fi hg38.fa -bed ENCFF016INZ.bed -fo ENCFF016INZ.txt\n",
    "\n"
   ]
  },
  {
   "cell_type": "code",
   "execution_count": 13,
   "metadata": {},
   "outputs": [
    {
     "name": "stdout",
     "output_type": "stream",
     "text": [
      "Extracted data has been saved to chromosome_extracted_data.txt.\n",
      "The average difference is 223.00\n",
      "Trimmed sequences have been saved to postive_nucleotides.txt.\n"
     ]
    }
   ],
   "source": [
    "#FINAL POSTIVE FILE EXTRACTIONS:\n",
    "\n",
    "# check if the diff is >= than average_difference and := extract all those rows and >: extarct first average_difference length sequences into postive_nucleotides.\n",
    "import math\n",
    "\n",
    "input_file = \"ENCFF016INZ.txt\"  # Replace with your actual input file name\n",
    "output_file = \"chromosome_extracted_data.txt\"\n",
    "trimmed_output_file = \"postive_nucleotides.txt\"\n",
    "\n",
    "# List to store extracted data and differences\n",
    "extracted_data = []\n",
    "differences = []\n",
    "\n",
    "# chromosome_extracted_data.txt\" 778747L, 194469836B                                                                                                                                       2,1           Top\n",
    "# Extracted data has been saved to chromosome_extracted_data.txt.\n",
    "# The average difference is 221.00\n",
    "# Trimmed sequences have been saved to postive_nucleotides.txt.\n",
    "\n",
    "# Open the input file and process each line\n",
    "with open(input_file, 'r') as file:\n",
    "    for line in file:\n",
    "        line = line.strip()\n",
    "        if line.startswith(\">\"):\n",
    "            # Extract chromosome, start, and end positions\n",
    "            header_parts = line[1:].split(\":\")  # Remove '>' and split by ':'\n",
    "            chromosome = header_parts[0]\n",
    "            start_end = header_parts[1].split(\"-\")\n",
    "            start = int(start_end[0])\n",
    "            end = int(start_end[1])\n",
    "            if start < end:\n",
    "                difference = end - start  # Calculate the difference\n",
    "                sequence = next(file).strip()\n",
    "                # Append to data list\n",
    "                extracted_data.append((chromosome, start, end, difference, sequence))\n",
    "                differences.append(difference)\n",
    "\n",
    "# Write the extracted data to the output file\n",
    "with open(output_file, 'w') as outfile:\n",
    "    # Header\n",
    "    outfile.write(\"Chromosome\\tStart\\tEnd\\tDifference\\tSequence\\n\")\n",
    "    # Data rows\n",
    "    for chromosome, start, end, difference, sequence in extracted_data:\n",
    "        outfile.write(f\"{chromosome}\\t{start}\\t{end}\\t{difference}\\t{sequence}\\n\")\n",
    "\n",
    "print(f\"Extracted data has been saved to {output_file}.\")\n",
    "\n",
    "# Calculate the average difference\n",
    "if differences:\n",
    "    average_difference = math.ceil(sum(differences) / len(differences))\n",
    "    print(f\"The average difference is {average_difference:.2f}\")\n",
    "\n",
    "\n",
    "    # Write the trimmed data to a new output file\n",
    "    with open(trimmed_output_file, 'w') as trimmed_outfile:\n",
    "        # trimmed_outfile.write(\"Sequence\\n\")\n",
    "        for chromosome, start, end, difference, sequence in extracted_data:\n",
    "            if difference >= average_difference:\n",
    "                # Trim sequence to only the first 'average_difference' length\n",
    "                trimmed_sequence = sequence[:average_difference]\n",
    "                \n",
    "                \n",
    "                # Write the trimmed sequence directly to the output file\n",
    "                trimmed_outfile.write(f\"\\n{trimmed_sequence}\\n\")\n",
    "\n",
    "    print(f\"Trimmed sequences have been saved to {trimmed_output_file}.\")\n",
    "\n",
    "else:\n",
    "    print(\"No valid chromosome data found to calculate the average difference.\")\n",
    "\n"
   ]
  },
  {
   "cell_type": "code",
   "execution_count": 14,
   "metadata": {},
   "outputs": [
    {
     "name": "stdout",
     "output_type": "stream",
     "text": [
      "New BED entries have been saved to negative_file.bed.\n"
     ]
    }
   ],
   "source": [
    "#extracting negative file\n",
    "# calculate negative file end of row1-start of row2 > avgdiff craete in .bed file new row as row1-start+1 and row1-start + avg \n",
    "import math\n",
    "\n",
    "input_file = \"chromosome_extracted_data.txt\"\n",
    "output_bed_file = \"negative_file.bed\"\n",
    "\n",
    "# Define the average difference\n",
    "\n",
    "# List to store data from input file\n",
    "data = []\n",
    "\n",
    "# Read the data from the input file\n",
    "with open(input_file, 'r') as file:\n",
    "    next(file)  # Skip header line\n",
    "    for line in file:\n",
    "        # Parse line into respective components\n",
    "        line_data = line.strip().split(\"\\t\")\n",
    "        chromosome = line_data[0]\n",
    "        start = int(line_data[1])\n",
    "        end = int(line_data[2])\n",
    "        difference = int(line_data[3])\n",
    "        sequence = line_data[4]\n",
    "        data.append((chromosome, start, end, difference, sequence))\n",
    "\n",
    "# Process each pair of rows to check the gap and create new entries as necessary\n",
    "with open(output_bed_file, 'w') as outfile:\n",
    "    for i in range(len(data) - 1):\n",
    "        current_chromosome, current_start, current_end, _, _ = data[i]\n",
    "        next_chromosome, next_start, _, _, _ = data[i + 1]\n",
    "\n",
    "        if current_chromosome == next_chromosome:\n",
    "            gap_difference = next_start - current_end\n",
    "\n",
    "            # Check if the gap is equal or greater than the average difference\n",
    "            if gap_difference == average_difference:\n",
    "                outfile.write(f\"{current_chromosome}\\t{new_start}\\t{new_end}\\n\")\n",
    "\n",
    "            elif gap_difference > average_difference:\n",
    "                new_start = current_end + 1\n",
    "                new_end = new_start + average_difference\n",
    "\n",
    "                # Write the new entry to the output file\n",
    "                outfile.write(f\"{current_chromosome}\\t{new_start}\\t{new_end}\\n\")\n",
    "            else: \n",
    "                pass\n",
    "print(f\"New BED entries have been saved to {output_bed_file}.\")\n"
   ]
  },
  {
   "cell_type": "code",
   "execution_count": null,
   "metadata": {},
   "outputs": [],
   "source": [
    "# (base) RONDI@node0:~/project$ bedtools getfasta -fi hg38.fa -bed negative_file.bed -fo negative_sequence.txt\n",
    "# bedtools getfasta -fi hg38.fa -bed negative_file.bed -fo negative_sequence.txt"
   ]
  },
  {
   "cell_type": "code",
   "execution_count": 15,
   "metadata": {},
   "outputs": [
    {
     "name": "stdout",
     "output_type": "stream",
     "text": [
      "All sequences have been saved to final_negative.txt.\n"
     ]
    }
   ],
   "source": [
    "#after sending above .txt to bed tools extracting only all -ve squence s to one file:\n",
    "# Define the input and output file paths\n",
    "input_file = \"negative_sequence.txt\"  # Replace with your actual file name containing the sequences\n",
    "output_file = \"final_negative.txt\"\n",
    "\n",
    "# Open the input file and process each line to extract sequences\n",
    "with open(input_file, 'r') as file, open(output_file, 'w') as outfile:\n",
    "    for line in file:\n",
    "        line = line.strip()\n",
    "        if not line.startswith(\">\"):  # Ignore header lines starting with '>'\n",
    "            # print(len(line))\n",
    "            outfile.write(\"\\n\"+ line + \"\\n\")  # Write each sequence on a new line\n",
    "\n",
    "print(f\"All sequences have been saved to {output_file}.\")\n"
   ]
  },
  {
   "cell_type": "code",
   "execution_count": null,
   "metadata": {},
   "outputs": [],
   "source": []
  }
 ],
 "metadata": {
  "kernelspec": {
   "display_name": "Python 3 (ipykernel)",
   "language": "python",
   "name": "python3"
  },
  "language_info": {
   "codemirror_mode": {
    "name": "ipython",
    "version": 3
   },
   "file_extension": ".py",
   "mimetype": "text/x-python",
   "name": "python",
   "nbconvert_exporter": "python",
   "pygments_lexer": "ipython3",
   "version": "3.9.19"
  }
 },
 "nbformat": 4,
 "nbformat_minor": 2
}
